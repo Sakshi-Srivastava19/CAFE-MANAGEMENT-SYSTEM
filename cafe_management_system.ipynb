{
 "cells": [
  {
   "cell_type": "markdown",
   "id": "3e1d7edb-63e9-486d-b86d-f42b31979b1b",
   "metadata": {},
   "source": [
    "# CAFE MANAGEMENT SYSTEM WITHOUT ANY GST AND OTHER COUPONS"
   ]
  },
  {
   "cell_type": "code",
   "execution_count": 2,
   "id": "cc9f9a29-75c5-40fa-b078-bd8c9bee51e2",
   "metadata": {},
   "outputs": [
    {
     "name": "stdout",
     "output_type": "stream",
     "text": [
      "\n",
      "Welcome to the Restaurant Management System!\n"
     ]
    },
    {
     "name": "stdin",
     "output_type": "stream",
     "text": [
      "Choose an action (type either 1 or 2) : 1. Take Order  2. Exit:  1\n"
     ]
    },
    {
     "name": "stdout",
     "output_type": "stream",
     "text": [
      "Menu:\n",
      "Burger: 100\n",
      "Pastry: 75\n",
      "Pizza: 250\n",
      "Pasta: 200\n",
      "Samosa: 15\n",
      "Salad: 50\n",
      "Tikki chaat: 99\n",
      "Pani puri: 59\n",
      "Soda: 40\n",
      "Water: 30\n",
      "Patties: 20\n"
     ]
    },
    {
     "name": "stdin",
     "output_type": "stream",
     "text": [
      "Enter the item you want to order (or 'done' to finish):  PIZZA\n",
      "How many Pizzas would you like?  2\n"
     ]
    },
    {
     "name": "stdout",
     "output_type": "stream",
     "text": [
      "Menu:\n",
      "Burger: 100\n",
      "Pastry: 75\n",
      "Pizza: 250\n",
      "Pasta: 200\n",
      "Samosa: 15\n",
      "Salad: 50\n",
      "Tikki chaat: 99\n",
      "Pani puri: 59\n",
      "Soda: 40\n",
      "Water: 30\n",
      "Patties: 20\n"
     ]
    },
    {
     "name": "stdin",
     "output_type": "stream",
     "text": [
      "Enter the item you want to order (or 'done' to finish):  PANI PURI\n",
      "How many Pani puris would you like?  1\n"
     ]
    },
    {
     "name": "stdout",
     "output_type": "stream",
     "text": [
      "Menu:\n",
      "Burger: 100\n",
      "Pastry: 75\n",
      "Pizza: 250\n",
      "Pasta: 200\n",
      "Samosa: 15\n",
      "Salad: 50\n",
      "Tikki chaat: 99\n",
      "Pani puri: 59\n",
      "Soda: 40\n",
      "Water: 30\n",
      "Patties: 20\n"
     ]
    },
    {
     "name": "stdin",
     "output_type": "stream",
     "text": [
      "Enter the item you want to order (or 'done' to finish):  DONE\n"
     ]
    },
    {
     "name": "stdout",
     "output_type": "stream",
     "text": [
      "\n",
      "--- Bill ---\n",
      "Pizza x2: 500\n",
      "Pani puri x1: 59\n",
      "Total: 559\n",
      "\n",
      "Welcome to the Restaurant Management System!\n"
     ]
    },
    {
     "name": "stdin",
     "output_type": "stream",
     "text": [
      "Choose an action (type either 1 or 2) : 1. Take Order  2. Exit:  2\n"
     ]
    },
    {
     "name": "stdout",
     "output_type": "stream",
     "text": [
      "Thank you for using the system!\n"
     ]
    }
   ],
   "source": [
    "class Restaurant:\n",
    "    def __init__(self):\n",
    "        self.menu = {\n",
    "            \"Burger\": 100,\n",
    "            \"Pastry\":75,\n",
    "            \"Pizza\": 250,\n",
    "            \"Pasta\": 200,\n",
    "            \"Samosa\":15,\n",
    "            \"Salad\": 50,\n",
    "            \"Tikki chaat\":99,\n",
    "            \"Pani puri\":59,\n",
    "            \"Soda\": 40,\n",
    "            \"Water\": 30,\n",
    "            \"Patties\":20,\n",
    "\n",
    "        }\n",
    "        self.orders = []\n",
    "    \n",
    "    def display_menu(self):\n",
    "        print(\"Menu:\")\n",
    "        for item, price in self.menu.items():\n",
    "            print(f\"{item}: {price}\")\n",
    "    \n",
    "    def take_order(self):\n",
    "        order = []\n",
    "        while True:\n",
    "            self.display_menu()\n",
    "            item = input(\"Enter the item you want to order (or 'done' to finish): \").capitalize()\n",
    "            if item == 'Done':\n",
    "                break\n",
    "            elif item in self.menu:\n",
    "                quantity = int(input(f\"How many {item}s would you like? \"))\n",
    "                order.append((item, quantity, self.menu[item] * quantity))\n",
    "            else:\n",
    "                print(\"Sorry, we don't have that item. Please choose from the menu.\")\n",
    "        self.orders.append(order)\n",
    "        return order\n",
    "    \n",
    "    def calculate_total(self, order):\n",
    "        total = sum(item[2] for item in order)\n",
    "        return total\n",
    "    \n",
    "    def generate_bill(self, order):\n",
    "        print(\"\\n--- Bill ---\")\n",
    "        for item, quantity, subtotal in order:\n",
    "            print(f\"{item} x{quantity}: {subtotal}\")\n",
    "        total = self.calculate_total(order)\n",
    "        print(f\"Total: {total}\")\n",
    "    \n",
    "    def run(self):\n",
    "        while True:\n",
    "            print(\"\\nWelcome to the Restaurant Management System!\")\n",
    "            action = input(\"Choose an action (type either 1 or 2) : 1. Take Order  2. Exit: \")\n",
    "            if action == \"1\":\n",
    "                order = self.take_order()\n",
    "                self.generate_bill(order)\n",
    "            elif action == \"2\":\n",
    "                print(\"Thank you for using the system!\")\n",
    "                break\n",
    "            else:\n",
    "                print(\"Invalid option. Please try again.\")\n",
    "\n",
    "# Run the system\n",
    "if __name__ == \"__main__\":\n",
    "    restaurant = Restaurant()\n",
    "    restaurant.run()\n"
   ]
  },
  {
   "cell_type": "markdown",
   "id": "2a69ba17-ef8c-4b2d-9f2f-c438b77c63bc",
   "metadata": {},
   "source": [
    "# CAFE MANAGEMENT SYSTEM WITH GST AND COUPONS"
   ]
  },
  {
   "cell_type": "code",
   "execution_count": 17,
   "id": "db8c2f40-43bf-44d2-ac2d-f1968344abde",
   "metadata": {},
   "outputs": [
    {
     "name": "stdout",
     "output_type": "stream",
     "text": [
      "\n",
      "Welcome to the Restaurant Management System!\n"
     ]
    },
    {
     "name": "stdin",
     "output_type": "stream",
     "text": [
      "Choose an action: 1. Take Order  2. Exit:  1\n"
     ]
    },
    {
     "name": "stdout",
     "output_type": "stream",
     "text": [
      "Menu (Prices in INR):\n",
      "Burger: ₹150.0\n",
      "Pizza: ₹250.0\n",
      "Pasta: ₹180.0\n",
      "Salad: ₹120.0\n",
      "Soda: ₹40.0\n",
      "Water: ₹20.0\n"
     ]
    },
    {
     "name": "stdin",
     "output_type": "stream",
     "text": [
      "Enter the item you want to order (or 'done' to finish):  pizza\n",
      "How many Pizzas would you like?  3\n"
     ]
    },
    {
     "name": "stdout",
     "output_type": "stream",
     "text": [
      "Menu (Prices in INR):\n",
      "Burger: ₹150.0\n",
      "Pizza: ₹250.0\n",
      "Pasta: ₹180.0\n",
      "Salad: ₹120.0\n",
      "Soda: ₹40.0\n",
      "Water: ₹20.0\n"
     ]
    },
    {
     "name": "stdin",
     "output_type": "stream",
     "text": [
      "Enter the item you want to order (or 'done' to finish):  done\n"
     ]
    },
    {
     "name": "stdout",
     "output_type": "stream",
     "text": [
      "\n",
      "--- Bill ---\n",
      "\n",
      "Items Ordered:\n",
      "Pizza x3: ₹750.0\n",
      "\n",
      "Subtotal: ₹750.0\n",
      "No Discount Applied\n",
      "GST (18%): ₹135.00\n",
      "Total: ₹885.00\n",
      "\n",
      "Welcome to the Restaurant Management System!\n"
     ]
    },
    {
     "name": "stdin",
     "output_type": "stream",
     "text": [
      "Choose an action: 1. Take Order  2. Exit:  2\n"
     ]
    },
    {
     "name": "stdout",
     "output_type": "stream",
     "text": [
      "Thank you for using the system!\n"
     ]
    }
   ],
   "source": [
    "class Restaurant:\n",
    "    def __init__(self):\n",
    "        self.menu = {\n",
    "            \"Burger\": 150.0,  # Prices in INR\n",
    "            \"Pizza\": 250.0,\n",
    "            \"Pasta\": 180.0,\n",
    "            \"Salad\": 120.0,\n",
    "            \"Soda\": 40.0,\n",
    "            \"Water\": 20.0\n",
    "        }\n",
    "        self.orders = []\n",
    "        self.gst_rate = 18  # GST Rate in percentage (18% in India)\n",
    "        self.discount_threshold = 2000  # Discount applies if total exceeds this amount\n",
    "        self.discount_rate = 10  # Discount rate in percentage (10%)\n",
    "    \n",
    "    def display_menu(self):\n",
    "        print(\"Menu (Prices in INR):\")\n",
    "        for item, price in self.menu.items():\n",
    "            print(f\"{item}: ₹{price}\")\n",
    "    \n",
    "    def take_order(self):\n",
    "        order = []\n",
    "        while True:\n",
    "            self.display_menu()\n",
    "            item = input(\"Enter the item you want to order (or 'done' to finish): \").capitalize()\n",
    "            if item == 'Done':\n",
    "                break\n",
    "            elif item in self.menu:\n",
    "                quantity = int(input(f\"How many {item}s would you like? \"))\n",
    "                order.append((item, quantity, self.menu[item] * quantity))\n",
    "            else:\n",
    "                print(\"Sorry, we don't have that item. Please choose from the menu.\")\n",
    "        self.orders.append(order)\n",
    "        return order\n",
    "    \n",
    "    def calculate_total(self, order):\n",
    "        total = sum(item[2] for item in order)\n",
    "        return total\n",
    "    \n",
    "    def calculate_gst(self, total):\n",
    "        return (total * self.gst_rate) / 100\n",
    "    \n",
    "    def apply_discount(self, total):\n",
    "        if total > self.discount_threshold:\n",
    "            discount = (total * self.discount_rate) / 100\n",
    "            print(f\"Discount applied: -₹{discount:.2f}\")\n",
    "            return total - discount\n",
    "        return total\n",
    "    \n",
    "    def generate_bill(self, order):\n",
    "        print(\"\\n--- Bill ---\")\n",
    "        total = self.calculate_total(order)\n",
    "        print(\"\\nItems Ordered:\")\n",
    "        for item, quantity, subtotal in order:\n",
    "            print(f\"{item} x{quantity}: ₹{subtotal}\")\n",
    "        \n",
    "        total_with_discount = self.apply_discount(total)\n",
    "        \n",
    "        gst = self.calculate_gst(total_with_discount)\n",
    "        final_total = total_with_discount + gst\n",
    "        \n",
    "        print(f\"\\nSubtotal: ₹{total}\")\n",
    "        print(f\"Discount: -₹{total - total_with_discount:.2f}\" if total_with_discount < total else \"No Discount Applied\")\n",
    "        print(f\"GST (18%): ₹{gst:.2f}\")\n",
    "        print(f\"Total: ₹{final_total:.2f}\")\n",
    "    \n",
    "    def run(self):\n",
    "        while True:\n",
    "            print(\"\\nWelcome to the Restaurant Management System!\")\n",
    "            action = input(\"Choose an action: 1. Take Order  2. Exit: \")\n",
    "            if action == \"1\":\n",
    "                order = self.take_order()\n",
    "                self.generate_bill(order)\n",
    "            elif action == \"2\":\n",
    "                print(\"Thank you for using the system!\")\n",
    "                break\n",
    "            else:\n",
    "                print(\"Invalid option. Please try again.\")\n",
    "if __name__ == \"__main__\":\n",
    "    restaurant = Restaurant()\n",
    "    restaurant.run()\n"
   ]
  },
  {
   "cell_type": "code",
   "execution_count": null,
   "id": "e779f3ce-3da9-4737-af52-ed98b1d6753c",
   "metadata": {},
   "outputs": [],
   "source": []
  },
  {
   "cell_type": "code",
   "execution_count": null,
   "id": "324a807c-ccc9-4a79-8c1e-1515d7e18ca0",
   "metadata": {},
   "outputs": [],
   "source": []
  },
  {
   "cell_type": "code",
   "execution_count": 9,
   "id": "6cabb92c-9b5e-470b-8be1-db1319a3694d",
   "metadata": {},
   "outputs": [
    {
     "name": "stdout",
     "output_type": "stream",
     "text": [
      "Welcome to our Resturant, Here is our menu\n",
      "\n",
      "Pizza: 120\n",
      "Burger: 80\n",
      "Salad: 40\n",
      "Coffe: 25\n",
      "Pastry: 25\n",
      "Tea:22\n",
      "Patties: 45\n"
     ]
    },
    {
     "name": "stdin",
     "output_type": "stream",
     "text": [
      "What do you want to order? :  Tea\n"
     ]
    },
    {
     "name": "stdout",
     "output_type": "stream",
     "text": [
      "Your bill is:  22\n"
     ]
    },
    {
     "name": "stdin",
     "output_type": "stream",
     "text": [
      "Do you want to order more? TYPE Yes or No :  Yes\n"
     ]
    },
    {
     "ename": "KeyError",
     "evalue": "'Yes'",
     "output_type": "error",
     "traceback": [
      "\u001b[1;31m---------------------------------------------------------------------------\u001b[0m",
      "\u001b[1;31mKeyError\u001b[0m                                  Traceback (most recent call last)",
      "Cell \u001b[1;32mIn[9], line 27\u001b[0m\n\u001b[0;32m     24\u001b[0m     \u001b[38;5;28mprint\u001b[39m(\u001b[38;5;124m\"\u001b[39m\u001b[38;5;124mThank You\u001b[39m\u001b[38;5;124m\"\u001b[39m)\n\u001b[0;32m     26\u001b[0m \u001b[38;5;28;01melse\u001b[39;00m:\n\u001b[1;32m---> 27\u001b[0m     total_bill \u001b[38;5;241m=\u001b[39m menu[Order1]\u001b[38;5;241m+\u001b[39mmenu[Order2]\n\u001b[0;32m     28\u001b[0m     Coupon \u001b[38;5;241m=\u001b[39m (\u001b[38;5;28minput\u001b[39m(\u001b[38;5;124m\"\u001b[39m\u001b[38;5;124mDo you have a coupon Code, if yes then enter it? :\u001b[39m\u001b[38;5;124m\"\u001b[39m))\n\u001b[0;32m     29\u001b[0m     \u001b[38;5;28;01mif\u001b[39;00m(Coupon \u001b[38;5;241m==\u001b[39m \u001b[38;5;124m\"\u001b[39m\u001b[38;5;124mSihab\u001b[39m\u001b[38;5;124m\"\u001b[39m):\n",
      "\u001b[1;31mKeyError\u001b[0m: 'Yes'"
     ]
    }
   ],
   "source": [
    "menu = {\n",
    "    'Pizza': 120,\n",
    "    'Burger': 80,\n",
    "    'Salad': 40,\n",
    "    'Coffee': 25,\n",
    "    'Pastry': 25,\n",
    "    'Tea':22,\n",
    "    'Patties':45\n",
    "}\n",
    "\n",
    "print(\"Welcome to our Resturant, Here is our menu\")\n",
    "print('')\n",
    "print(\"Pizza: 120\\nBurger: 80\\nSalad: 40\\nCoffe: 25\\nPastry: 25\\nTea:22\\nPatties: 45\")\n",
    "\n",
    "Order1 = input(\"What do you want to order? : \")\n",
    "#Order1=Order1.lower()\n",
    "print(\"Your bill is: \", menu[Order1])\n",
    "Order2 = input(\"Do you want to order more? TYPE Yes or No : \")\n",
    "if(Order1 != \"Coffe\" and Order2 == \"No\"):\n",
    "    print(\"Your total bill is \", menu[Order1] )\n",
    "    \n",
    "elif(Order1 == \"Coffe\" and Order2 == \"No\"):\n",
    "    print(\"Sorry sir, You Cant order just a coffe\")\n",
    "    print(\"Thank You\")\n",
    "\n",
    "else:\n",
    "    total_bill = menu[Order1]+menu[Order2]\n",
    "    Coupon = (input(\"Do you have a coupon Code, if yes then enter it? :\"))\n",
    "    if(Coupon == \"Sihab\"):\n",
    "        disc_value = total_bill * menu[Coupon]\n",
    "        print(\"Your bill after 20% Discount: \", total_bill - disc_value)\n",
    "    else:\n",
    "        print(\"Your total bill is: \", menu[Order1]+menu[Order2])\n",
    "    \n",
    "print(\"Thank you for ordering\")\n"
   ]
  },
  {
   "cell_type": "code",
   "execution_count": 15,
   "id": "70ea7573-7c6c-40e1-9762-974bfa17d76c",
   "metadata": {},
   "outputs": [],
   "source": [
    "class Restaurant:\n",
    "    def __init__(self):\n",
    "        self.menu = {\n",
    "            \"Burger\": 150.0,  # Prices in INR\n",
    "            \"Pizza\": 250.0,\n",
    "            \"Pasta\": 180.0,\n",
    "            \"Salad\": 120.0,\n",
    "            \"Soda\": 40.0,\n",
    "            \"Water\": 20.0\n",
    "        }\n",
    "        self.orders = []\n",
    "        self.gst_rate = 18  # GST Rate in percentage (18% in India)\n",
    "        self.discount_threshold = 2000  # Discount applies if total exceeds this amount\n",
    "        self.discoun\n"
   ]
  },
  {
   "cell_type": "code",
   "execution_count": null,
   "id": "10d04b37-9fdb-403d-b9dd-4c5f9bdbaa47",
   "metadata": {},
   "outputs": [],
   "source": []
  }
 ],
 "metadata": {
  "kernelspec": {
   "display_name": "Python 3 (ipykernel)",
   "language": "python",
   "name": "python3"
  },
  "language_info": {
   "codemirror_mode": {
    "name": "ipython",
    "version": 3
   },
   "file_extension": ".py",
   "mimetype": "text/x-python",
   "name": "python",
   "nbconvert_exporter": "python",
   "pygments_lexer": "ipython3",
   "version": "3.12.7"
  }
 },
 "nbformat": 4,
 "nbformat_minor": 5
}
