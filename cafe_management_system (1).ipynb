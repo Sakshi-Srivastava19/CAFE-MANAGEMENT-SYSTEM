{
 "cells": [
  {
   "cell_type": "markdown",
   "id": "3e1d7edb-63e9-486d-b86d-f42b31979b1b",
   "metadata": {},
   "source": [
    "# CAFE MANAGEMENT SYSTEM WITHOUT ANY GST AND OTHER COUPONS"
   ]
  },
  {
   "cell_type": "code",
   "execution_count": 11,
   "id": "cc9f9a29-75c5-40fa-b078-bd8c9bee51e2",
   "metadata": {},
   "outputs": [
    {
     "name": "stdout",
     "output_type": "stream",
     "text": [
      "\n",
      "Welcome to the Restaurant Management System!\n"
     ]
    },
    {
     "name": "stdin",
     "output_type": "stream",
     "text": [
      "Choose an action (type either 1 or 2) : 1. Take Order  2. Exit:  1\n"
     ]
    },
    {
     "name": "stdout",
     "output_type": "stream",
     "text": [
      "Menu:\n",
      "Burger: 100\n",
      "Pastry: 75\n",
      "Pizza: 250\n",
      "Pasta: 200\n",
      "Samosa: 15\n",
      "Salad: 50\n",
      "Tikki chaat: 99\n",
      "Pani puri: 59\n",
      "Soda: 40\n",
      "Water: 30\n",
      "Patties: 20\n"
     ]
    },
    {
     "name": "stdin",
     "output_type": "stream",
     "text": [
      "Enter the item you want to order (or 'done' to finish):  PIZZA\n",
      "How many Pizzas would you like?  2\n"
     ]
    },
    {
     "name": "stdout",
     "output_type": "stream",
     "text": [
      "Menu:\n",
      "Burger: 100\n",
      "Pastry: 75\n",
      "Pizza: 250\n",
      "Pasta: 200\n",
      "Samosa: 15\n",
      "Salad: 50\n",
      "Tikki chaat: 99\n",
      "Pani puri: 59\n",
      "Soda: 40\n",
      "Water: 30\n",
      "Patties: 20\n"
     ]
    },
    {
     "name": "stdin",
     "output_type": "stream",
     "text": [
      "Enter the item you want to order (or 'done' to finish):  SODA\n",
      "How many Sodas would you like?  3\n"
     ]
    },
    {
     "name": "stdout",
     "output_type": "stream",
     "text": [
      "Menu:\n",
      "Burger: 100\n",
      "Pastry: 75\n",
      "Pizza: 250\n",
      "Pasta: 200\n",
      "Samosa: 15\n",
      "Salad: 50\n",
      "Tikki chaat: 99\n",
      "Pani puri: 59\n",
      "Soda: 40\n",
      "Water: 30\n",
      "Patties: 20\n"
     ]
    },
    {
     "name": "stdin",
     "output_type": "stream",
     "text": [
      "Enter the item you want to order (or 'done' to finish):  DONE\n"
     ]
    },
    {
     "name": "stdout",
     "output_type": "stream",
     "text": [
      "\n",
      "--- Bill ---\n",
      "Pizza x2: 500\n",
      "Soda x3: 120\n",
      "Total: 620\n",
      "\n",
      "Welcome to the Restaurant Management System!\n"
     ]
    },
    {
     "name": "stdin",
     "output_type": "stream",
     "text": [
      "Choose an action (type either 1 or 2) : 1. Take Order  2. Exit:  EXIT\n"
     ]
    },
    {
     "name": "stdout",
     "output_type": "stream",
     "text": [
      "Invalid option. Please try again.\n",
      "\n",
      "Welcome to the Restaurant Management System!\n"
     ]
    },
    {
     "name": "stdin",
     "output_type": "stream",
     "text": [
      "Choose an action (type either 1 or 2) : 1. Take Order  2. Exit:  EXIT\n"
     ]
    },
    {
     "name": "stdout",
     "output_type": "stream",
     "text": [
      "Invalid option. Please try again.\n",
      "\n",
      "Welcome to the Restaurant Management System!\n"
     ]
    },
    {
     "name": "stdin",
     "output_type": "stream",
     "text": [
      "Choose an action (type either 1 or 2) : 1. Take Order  2. Exit:  2\n"
     ]
    },
    {
     "name": "stdout",
     "output_type": "stream",
     "text": [
      "Thank you for using the system!\n"
     ]
    }
   ],
   "source": [
    "class Restaurant:\n",
    "    def __init__(self):\n",
    "        self.menu = {\n",
    "            \"Burger\": 100,\n",
    "            \"Pastry\":75,\n",
    "            \"Pizza\": 250,\n",
    "            \"Pasta\": 200,\n",
    "            \"Samosa\":15,\n",
    "            \"Salad\": 50,\n",
    "            \"Tikki chaat\":99,\n",
    "            \"Pani puri\":59,\n",
    "            \"Soda\": 40,\n",
    "            \"Water\": 30,\n",
    "            \"Patties\":20,\n",
    "\n",
    "        }\n",
    "        self.orders = []\n",
    "    \n",
    "    def display_menu(self):\n",
    "        print(\"Menu:\")\n",
    "        for item, price in self.menu.items():\n",
    "            print(f\"{item}: {price}\")\n",
    "    \n",
    "    def take_order(self):\n",
    "        order = []\n",
    "        while True:\n",
    "            self.display_menu()\n",
    "            item = input(\"Enter the item you want to order (or 'done' to finish): \").capitalize()\n",
    "            if item == 'Done':\n",
    "                break\n",
    "            elif item in self.menu:\n",
    "                quantity = int(input(f\"How many {item}s would you like? \"))\n",
    "                order.append((item, quantity, self.menu[item] * quantity))\n",
    "            else:\n",
    "                print(\"Sorry, we don't have that item. Please choose from the menu.\")\n",
    "        self.orders.append(order)\n",
    "        return order\n",
    "    \n",
    "    def calculate_total(self, order):\n",
    "        total = sum(item[2] for item in order)\n",
    "        return total\n",
    "    \n",
    "    def generate_bill(self, order):\n",
    "        print(\"\\n--- Bill ---\")\n",
    "        for item, quantity, subtotal in order:\n",
    "            print(f\"{item} x{quantity}: {subtotal}\")\n",
    "        total = self.calculate_total(order)\n",
    "        print(f\"Total: {total}\")\n",
    "    \n",
    "    def run(self):\n",
    "        while True:\n",
    "            print(\"\\nWelcome to the Restaurant Management System!\")\n",
    "            action = input(\"Choose an action (type either 1 or 2) : 1. Take Order  2. Exit: \")\n",
    "            if action == \"1\":\n",
    "                order = self.take_order()\n",
    "                self.generate_bill(order)\n",
    "            elif action == \"2\":\n",
    "                print(\"Thank you for using the system!\")\n",
    "                break\n",
    "            else:\n",
    "                print(\"Invalid option. Please try again.\")\n",
    "\n",
    "# Run the system\n",
    "if __name__ == \"__main__\":\n",
    "    restaurant = Restaurant()\n",
    "    restaurant.run()\n"
   ]
  },
  {
   "cell_type": "markdown",
   "id": "2a69ba17-ef8c-4b2d-9f2f-c438b77c63bc",
   "metadata": {},
   "source": [
    "# CAFE MANAGEMENT SYSTEM WITH GST AND COUPONS"
   ]
  },
  {
   "cell_type": "code",
   "execution_count": 17,
   "id": "db8c2f40-43bf-44d2-ac2d-f1968344abde",
   "metadata": {},
   "outputs": [
    {
     "name": "stdout",
     "output_type": "stream",
     "text": [
      "\n",
      "Welcome to the Restaurant Management System!\n"
     ]
    },
    {
     "name": "stdin",
     "output_type": "stream",
     "text": [
      "Choose an action: 1. Take Order  2. Exit:  1\n"
     ]
    },
    {
     "name": "stdout",
     "output_type": "stream",
     "text": [
      "Menu (Prices in INR):\n",
      "Burger: ₹150.0\n",
      "Pizza: ₹250.0\n",
      "Pasta: ₹180.0\n",
      "Salad: ₹120.0\n",
      "Soda: ₹40.0\n",
      "Water: ₹20.0\n"
     ]
    },
    {
     "name": "stdin",
     "output_type": "stream",
     "text": [
      "Enter the item you want to order (or 'done' to finish):  pizza\n",
      "How many Pizzas would you like?  3\n"
     ]
    },
    {
     "name": "stdout",
     "output_type": "stream",
     "text": [
      "Menu (Prices in INR):\n",
      "Burger: ₹150.0\n",
      "Pizza: ₹250.0\n",
      "Pasta: ₹180.0\n",
      "Salad: ₹120.0\n",
      "Soda: ₹40.0\n",
      "Water: ₹20.0\n"
     ]
    },
    {
     "name": "stdin",
     "output_type": "stream",
     "text": [
      "Enter the item you want to order (or 'done' to finish):  done\n"
     ]
    },
    {
     "name": "stdout",
     "output_type": "stream",
     "text": [
      "\n",
      "--- Bill ---\n",
      "\n",
      "Items Ordered:\n",
      "Pizza x3: ₹750.0\n",
      "\n",
      "Subtotal: ₹750.0\n",
      "No Discount Applied\n",
      "GST (18%): ₹135.00\n",
      "Total: ₹885.00\n",
      "\n",
      "Welcome to the Restaurant Management System!\n"
     ]
    },
    {
     "name": "stdin",
     "output_type": "stream",
     "text": [
      "Choose an action: 1. Take Order  2. Exit:  2\n"
     ]
    },
    {
     "name": "stdout",
     "output_type": "stream",
     "text": [
      "Thank you for using the system!\n"
     ]
    }
   ],
   "source": [
    "class Restaurant:\n",
    "    def __init__(self):\n",
    "        self.menu = {\n",
    "            \"Burger\": 150.0,  # Prices in INR\n",
    "            \"Pizza\": 250.0,\n",
    "            \"Pasta\": 180.0,\n",
    "            \"Salad\": 120.0,\n",
    "            \"Soda\": 40.0,\n",
    "            \"Water\": 20.0\n",
    "        }\n",
    "        self.orders = []\n",
    "        self.gst_rate = 18  # GST Rate in percentage (18% in India)\n",
    "        self.discount_threshold = 2000  # Discount applies if total exceeds this amount\n",
    "        self.discount_rate = 10  # Discount rate in percentage (10%)\n",
    "    \n",
    "    def display_menu(self):\n",
    "        print(\"Menu (Prices in INR):\")\n",
    "        for item, price in self.menu.items():\n",
    "            print(f\"{item}: ₹{price}\")\n",
    "    \n",
    "    def take_order(self):\n",
    "        order = []\n",
    "        while True:\n",
    "            self.display_menu()\n",
    "            item = input(\"Enter the item you want to order (or 'done' to finish): \").capitalize()\n",
    "            if item == 'Done':\n",
    "                break\n",
    "            elif item in self.menu:\n",
    "                quantity = int(input(f\"How many {item}s would you like? \"))\n",
    "                order.append((item, quantity, self.menu[item] * quantity))\n",
    "            else:\n",
    "                print(\"Sorry, we don't have that item. Please choose from the menu.\")\n",
    "        self.orders.append(order)\n",
    "        return order\n",
    "    \n",
    "    def calculate_total(self, order):\n",
    "        total = sum(item[2] for item in order)\n",
    "        return total\n",
    "    \n",
    "    def calculate_gst(self, total):\n",
    "        return (total * self.gst_rate) / 100\n",
    "    \n",
    "    def apply_discount(self, total):\n",
    "        if total > self.discount_threshold:\n",
    "            discount = (total * self.discount_rate) / 100\n",
    "            print(f\"Discount applied: -₹{discount:.2f}\")\n",
    "            return total - discount\n",
    "        return total\n",
    "    \n",
    "    def generate_bill(self, order):\n",
    "        print(\"\\n--- Bill ---\")\n",
    "        total = self.calculate_total(order)\n",
    "        print(\"\\nItems Ordered:\")\n",
    "        for item, quantity, subtotal in order:\n",
    "            print(f\"{item} x{quantity}: ₹{subtotal}\")\n",
    "        \n",
    "        total_with_discount = self.apply_discount(total)\n",
    "        \n",
    "        gst = self.calculate_gst(total_with_discount)\n",
    "        final_total = total_with_discount + gst\n",
    "        \n",
    "        print(f\"\\nSubtotal: ₹{total}\")\n",
    "        print(f\"Discount: -₹{total - total_with_discount:.2f}\" if total_with_discount < total else \"No Discount Applied\")\n",
    "        print(f\"GST (18%): ₹{gst:.2f}\")\n",
    "        print(f\"Total: ₹{final_total:.2f}\")\n",
    "    \n",
    "    def run(self):\n",
    "        while True:\n",
    "            print(\"\\nWelcome to the Restaurant Management System!\")\n",
    "            action = input(\"Choose an action: 1. Take Order  2. Exit: \")\n",
    "            if action == \"1\":\n",
    "                order = self.take_order()\n",
    "                self.generate_bill(order)\n",
    "            elif action == \"2\":\n",
    "                print(\"Thank you for using the system!\")\n",
    "                break\n",
    "            else:\n",
    "                print(\"Invalid option. Please try again.\")\n",
    "if __name__ == \"__main__\":\n",
    "    restaurant = Restaurant()\n",
    "    restaurant.run()\n"
   ]
  },
  {
   "cell_type": "code",
   "execution_count": null,
   "id": "e779f3ce-3da9-4737-af52-ed98b1d6753c",
   "metadata": {},
   "outputs": [],
   "source": []
  }
 ],
 "metadata": {
  "kernelspec": {
   "display_name": "Python 3 (ipykernel)",
   "language": "python",
   "name": "python3"
  },
  "language_info": {
   "codemirror_mode": {
    "name": "ipython",
    "version": 3
   },
   "file_extension": ".py",
   "mimetype": "text/x-python",
   "name": "python",
   "nbconvert_exporter": "python",
   "pygments_lexer": "ipython3",
   "version": "3.12.7"
  }
 },
 "nbformat": 4,
 "nbformat_minor": 5
}
